{
 "cells": [
  {
   "cell_type": "markdown",
   "id": "77892828",
   "metadata": {},
   "source": [
    "# DRW - Linear Approach"
   ]
  }
 ],
 "metadata": {
  "language_info": {
   "name": "python"
  }
 },
 "nbformat": 4,
 "nbformat_minor": 5
}

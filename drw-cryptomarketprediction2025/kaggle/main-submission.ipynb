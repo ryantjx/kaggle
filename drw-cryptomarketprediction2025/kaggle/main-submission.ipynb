{
 "cells": [
  {
   "cell_type": "code",
   "execution_count": null,
   "metadata": {
    "execution": {
     "iopub.execute_input": "2025-06-10T05:53:12.659681Z",
     "iopub.status.busy": "2025-06-10T05:53:12.659413Z",
     "iopub.status.idle": "2025-06-10T05:53:12.670593Z",
     "shell.execute_reply": "2025-06-10T05:53:12.669900Z",
     "shell.execute_reply.started": "2025-06-10T05:53:12.659647Z"
    },
    "trusted": true
   },
   "outputs": [],
   "source": [
    "import os\n",
    "for dirname, _, filenames in os.walk('/kaggle/input'):\n",
    "    for filename in filenames:\n",
    "        print(os.path.join(dirname, filename))"
   ]
  },
  {
   "cell_type": "code",
   "execution_count": null,
   "metadata": {
    "execution": {
     "iopub.execute_input": "2025-06-10T05:53:12.672503Z",
     "iopub.status.busy": "2025-06-10T05:53:12.672233Z",
     "iopub.status.idle": "2025-06-10T05:53:14.512827Z",
     "shell.execute_reply": "2025-06-10T05:53:14.512027Z",
     "shell.execute_reply.started": "2025-06-10T05:53:12.672484Z"
    },
    "trusted": true
   },
   "outputs": [],
   "source": [
    "import numpy as np\n",
    "from sklearn.metrics import mean_squared_error, mean_absolute_error, median_absolute_error, r2_score\n",
    "from scipy.stats import pearsonr, spearmanr\n",
    "import polars as pl\n",
    "import numpy as np\n",
    "from tqdm import tqdm\n",
    "from datetime import datetime"
   ]
  },
  {
   "cell_type": "markdown",
   "metadata": {},
   "source": [
    "# 1 Data"
   ]
  },
  {
   "cell_type": "code",
   "execution_count": null,
   "metadata": {
    "execution": {
     "iopub.execute_input": "2025-06-10T05:53:14.514035Z",
     "iopub.status.busy": "2025-06-10T05:53:14.513676Z",
     "iopub.status.idle": "2025-06-10T05:53:28.955738Z",
     "shell.execute_reply": "2025-06-10T05:53:28.954968Z",
     "shell.execute_reply.started": "2025-06-10T05:53:14.514005Z"
    },
    "trusted": true
   },
   "outputs": [],
   "source": [
    "data = pl.read_parquet(\n",
    "    \"/kaggle/input/drw-crypto-market-prediction/train.parquet\"\n",
    ").sort(\"timestamp\", descending = False)\n",
    "data"
   ]
  },
  {
   "cell_type": "markdown",
   "metadata": {},
   "source": [
    "# 2 Pre-Processing / Feature Engineering"
   ]
  },
  {
   "cell_type": "code",
   "execution_count": null,
   "metadata": {
    "execution": {
     "iopub.execute_input": "2025-06-10T05:53:28.956864Z",
     "iopub.status.busy": "2025-06-10T05:53:28.956531Z",
     "iopub.status.idle": "2025-06-10T05:53:29.030813Z",
     "shell.execute_reply": "2025-06-10T05:53:29.029952Z",
     "shell.execute_reply.started": "2025-06-10T05:53:28.956843Z"
    },
    "trusted": true
   },
   "outputs": [],
   "source": [
    "start = datetime(2023, 3, 1, 0, 0)\n",
    "end   = datetime(2024, 2, 29, 23, 59, 59)\n",
    "\n",
    "features = ['X35', 'X96', 'X113', 'X126', 'X261', 'X539', 'X666', 'X690', 'X696']\n",
    "\n",
    "X_train = data.filter(\n",
    "    (pl.col(\"timestamp\") >= pl.lit(start)) & (pl.col(\"timestamp\") <= pl.lit(end))\n",
    ").select(features)\n",
    "\n",
    "y_train = data.filter(\n",
    "    (pl.col(\"timestamp\") >= pl.lit(start)) & (pl.col(\"timestamp\") <= pl.lit(end))\n",
    ")[\"label\"]\n",
    "\n",
    "X_train_np = X_train.to_numpy()\n",
    "y_train_np = y_train.to_numpy()\n",
    "\n",
    "X_train"
   ]
  },
  {
   "cell_type": "code",
   "execution_count": null,
   "metadata": {
    "execution": {
     "iopub.execute_input": "2025-06-10T05:53:29.032593Z",
     "iopub.status.busy": "2025-06-10T05:53:29.032345Z",
     "iopub.status.idle": "2025-06-10T05:53:29.038297Z",
     "shell.execute_reply": "2025-06-10T05:53:29.037486Z",
     "shell.execute_reply.started": "2025-06-10T05:53:29.032573Z"
    },
    "trusted": true
   },
   "outputs": [],
   "source": [
    "y_train"
   ]
  },
  {
   "cell_type": "markdown",
   "metadata": {},
   "source": [
    "# 3 Model"
   ]
  },
  {
   "cell_type": "code",
   "execution_count": null,
   "metadata": {
    "execution": {
     "iopub.execute_input": "2025-06-10T05:54:01.964583Z",
     "iopub.status.busy": "2025-06-10T05:54:01.964275Z",
     "iopub.status.idle": "2025-06-10T05:54:55.030593Z",
     "shell.execute_reply": "2025-06-10T05:54:55.029842Z",
     "shell.execute_reply.started": "2025-06-10T05:54:01.964559Z"
    },
    "trusted": true
   },
   "outputs": [],
   "source": [
    "from xgboost import XGBRegressor\n",
    "\n",
    "# XGBoost (GPU)\n",
    "model = XGBRegressor(\n",
    "    n_estimators=100,\n",
    "    max_depth=50,\n",
    "    min_child_weight=10,\n",
    "    random_state=42,\n",
    "    tree_method=\"gpu_hist\",  # Use GPU-accelerated histogram method\n",
    "    predictor=\"gpu_predictor\",\n",
    "    n_jobs=-1,\n",
    "    verbosity=0\n",
    ")\n",
    "model.fit(X_train_np, y_train_np)"
   ]
  },
  {
   "cell_type": "markdown",
   "metadata": {},
   "source": [
    "# 4 Prediction"
   ]
  },
  {
   "cell_type": "markdown",
   "metadata": {},
   "source": [
    "## 4.1 Preprocess Test"
   ]
  },
  {
   "cell_type": "code",
   "execution_count": null,
   "metadata": {
    "execution": {
     "iopub.execute_input": "2025-06-10T05:55:07.983471Z",
     "iopub.status.busy": "2025-06-10T05:55:07.982896Z",
     "iopub.status.idle": "2025-06-10T05:55:20.320578Z",
     "shell.execute_reply": "2025-06-10T05:55:20.319896Z",
     "shell.execute_reply.started": "2025-06-10T05:55:07.983447Z"
    },
    "trusted": true
   },
   "outputs": [],
   "source": [
    "test = pl.read_parquet(\"/kaggle/input/drw-crypto-market-prediction/test.parquet\")\n",
    "test = test.with_row_index(\"ID\", offset=1)\n",
    "\n",
    "X_test = test.select(features)\n",
    "X_test"
   ]
  },
  {
   "cell_type": "markdown",
   "metadata": {},
   "source": [
    "## 4.2 Predict"
   ]
  },
  {
   "cell_type": "code",
   "execution_count": null,
   "metadata": {
    "execution": {
     "iopub.execute_input": "2025-06-10T05:55:25.960548Z",
     "iopub.status.busy": "2025-06-10T05:55:25.959858Z",
     "iopub.status.idle": "2025-06-10T05:55:26.469338Z",
     "shell.execute_reply": "2025-06-10T05:55:26.468674Z",
     "shell.execute_reply.started": "2025-06-10T05:55:25.960526Z"
    },
    "trusted": true
   },
   "outputs": [],
   "source": [
    "y_pred = model.predict(X_test.to_numpy())\n",
    "submission = pl.DataFrame({\n",
    "    \"ID\": test[\"ID\"],\n",
    "    \"prediction\": y_pred\n",
    "})\n",
    "submission"
   ]
  },
  {
   "cell_type": "markdown",
   "metadata": {},
   "source": [
    "## 5 Submission"
   ]
  },
  {
   "cell_type": "code",
   "execution_count": null,
   "metadata": {
    "execution": {
     "iopub.execute_input": "2025-06-10T05:55:33.000698Z",
     "iopub.status.busy": "2025-06-10T05:55:33.000426Z",
     "iopub.status.idle": "2025-06-10T05:55:33.068676Z",
     "shell.execute_reply": "2025-06-10T05:55:33.067692Z",
     "shell.execute_reply.started": "2025-06-10T05:55:33.000678Z"
    },
    "trusted": true
   },
   "outputs": [],
   "source": [
    "submission.write_csv(\"/kaggle/working/submission.csv\")"
   ]
  }
 ],
 "metadata": {
  "kaggle": {
   "accelerator": "none",
   "dataSources": [
    {
     "databundleVersionId": 11418275,
     "sourceId": 96164,
     "sourceType": "competition"
    }
   ],
   "dockerImageVersionId": 31040,
   "isGpuEnabled": false,
   "isInternetEnabled": true,
   "language": "python",
   "sourceType": "notebook"
  },
  "kernelspec": {
   "display_name": "Python 3",
   "language": "python",
   "name": "python3"
  },
  "language_info": {
   "codemirror_mode": {
    "name": "ipython",
    "version": 3
   },
   "file_extension": ".py",
   "mimetype": "text/x-python",
   "name": "python",
   "nbconvert_exporter": "python",
   "pygments_lexer": "ipython3",
   "version": "3.12.5"
  },
  "papermill": {
   "default_parameters": {},
   "duration": 6.740811,
   "end_time": "2025-05-27T00:18:12.255119",
   "environment_variables": {},
   "exception": null,
   "input_path": "__notebook__.ipynb",
   "output_path": "__notebook__.ipynb",
   "parameters": {},
   "start_time": "2025-05-27T00:18:05.514308",
   "version": "2.6.0"
  }
 },
 "nbformat": 4,
 "nbformat_minor": 4
}

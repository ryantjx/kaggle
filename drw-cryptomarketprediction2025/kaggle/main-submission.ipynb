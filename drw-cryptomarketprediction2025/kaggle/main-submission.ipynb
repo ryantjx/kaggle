{
 "cells": [
  {
   "cell_type": "code",
   "execution_count": 1,
   "id": "458d87af",
   "metadata": {
    "execution": {
     "iopub.execute_input": "2025-06-03T09:47:05.904570Z",
     "iopub.status.busy": "2025-06-03T09:47:05.904257Z",
     "iopub.status.idle": "2025-06-03T09:47:05.913879Z",
     "shell.execute_reply": "2025-06-03T09:47:05.912681Z"
    },
    "papermill": {
     "duration": 0.016021,
     "end_time": "2025-06-03T09:47:05.915432",
     "exception": false,
     "start_time": "2025-06-03T09:47:05.899411",
     "status": "completed"
    },
    "tags": []
   },
   "outputs": [
    {
     "name": "stdout",
     "output_type": "stream",
     "text": [
      "/kaggle/input/drw-crypto-market-prediction/sample_submission.csv\n",
      "/kaggle/input/drw-crypto-market-prediction/train.parquet\n",
      "/kaggle/input/drw-crypto-market-prediction/test.parquet\n"
     ]
    }
   ],
   "source": [
    "import os\n",
    "for dirname, _, filenames in os.walk('/kaggle/input'):\n",
    "    for filename in filenames:\n",
    "        print(os.path.join(dirname, filename))"
   ]
  },
  {
   "cell_type": "code",
   "execution_count": 2,
   "id": "15cef179",
   "metadata": {
    "_cell_guid": "b1076dfc-b9ad-4769-8c92-a6c4dae69d19",
    "_uuid": "8f2839f25d086af736a60e9eeb907d3b93b6e0e5",
    "execution": {
     "iopub.execute_input": "2025-06-03T09:47:05.923492Z",
     "iopub.status.busy": "2025-06-03T09:47:05.923189Z",
     "iopub.status.idle": "2025-06-03T09:47:08.513195Z",
     "shell.execute_reply": "2025-06-03T09:47:08.512214Z"
    },
    "papermill": {
     "duration": 2.595897,
     "end_time": "2025-06-03T09:47:08.514965",
     "exception": false,
     "start_time": "2025-06-03T09:47:05.919068",
     "status": "completed"
    },
    "tags": []
   },
   "outputs": [],
   "source": [
    "import numpy as np\n",
    "from sklearn.metrics import mean_squared_error, mean_absolute_error, median_absolute_error, r2_score\n",
    "from scipy.stats import pearsonr, spearmanr\n",
    "import polars as pl\n",
    "import numpy as np\n",
    "from tqdm import tqdm\n",
    "\n",
    "def get_cols_inf(df: pl.DataFrame) -> list[str]:\n",
    "    \"\"\"\n",
    "    Returns a list of column names that contain any positive or negative infinity.\n",
    "    \"\"\"\n",
    "    cols = []\n",
    "    for col in df.columns:\n",
    "        # df[col] is a Series; .is_infinite() → Boolean Series; .any() → Python bool\n",
    "        try:\n",
    "            if df[col].is_infinite().any():\n",
    "                cols.append(col)\n",
    "        except Exception:\n",
    "            # if the column isn’t numeric, .is_infinite() might error—just skip it\n",
    "            continue\n",
    "    return cols\n",
    "\n",
    "def get_nan_columns(df: pl.DataFrame) -> list[str]:\n",
    "    \"\"\"\n",
    "    Returns a list of column names with any NaN/null values.\n",
    "    \"\"\"\n",
    "    cols = []\n",
    "    for col in df.columns:\n",
    "        if df.select(pl.col(col).is_null().any()).item():\n",
    "            cols.append(col)\n",
    "    return cols\n",
    "\n",
    "def get_cols_zerostd(df: pl.DataFrame) -> list[str]:\n",
    "    \"\"\"\n",
    "    Returns a list of column names whose standard deviation is zero\n",
    "    (or whose std returns None because all values are null).\n",
    "    Non-numeric columns (e.g. datetime) are skipped.\n",
    "    \"\"\"\n",
    "    cols = []\n",
    "    for col, dtype in zip(df.columns, df.dtypes):\n",
    "        # Only attempt std() on numeric dtypes\n",
    "        if dtype.is_numeric():  \n",
    "            # df[col] is a Series; .std() returns a Python float or None\n",
    "            std_val = df[col].std()\n",
    "            if std_val == 0.0 or std_val is None:\n",
    "                cols.append(col)\n",
    "    return cols\n",
    "\n",
    "\n",
    "def feature_engineering(df: pl.DataFrame) -> pl.DataFrame:\n",
    "    # Feature engineering\n",
    "    df = df.with_columns([\n",
    "        # bidask_ratio = bid_qty / ask_qty\n",
    "        (pl.col(\"bid_qty\") / pl.col(\"ask_qty\")).alias(\"bidask_ratio\"),\n",
    "\n",
    "        # buysell_ratio = 0 if volume == 0 else buy_qty / sell_qty\n",
    "        pl.when(pl.col(\"volume\") == 0)\n",
    "        .then(0)\n",
    "        .otherwise(pl.col(\"buy_qty\") / pl.col(\"sell_qty\"))\n",
    "        .alias(\"buysell_ratio\"),\n",
    "\n",
    "        # bidask_delta = bid_qty - ask_qty\n",
    "        (pl.col(\"bid_qty\") - pl.col(\"ask_qty\")).alias(\"bidask_delta\"),\n",
    "\n",
    "        # buysell_delta = buy_qty - sell_qty\n",
    "        (pl.col(\"buy_qty\") - pl.col(\"sell_qty\")).alias(\"buysell_delta\"),\n",
    "\n",
    "        # buysell_size = buy_qty + sell_qty\n",
    "        (pl.col(\"buy_qty\") + pl.col(\"sell_qty\")).alias(\"buysell_size\"),\n",
    "\n",
    "        # bidask_size = bid_qty + ask_qty\n",
    "        (pl.col(\"bid_qty\") + pl.col(\"ask_qty\")).alias(\"bidask_size\"),\n",
    "    ])\n",
    "    return df\n",
    "def preprocess_train(train: pl.DataFrame, columns_to_drop: list[str] = []) -> pl.DataFrame:\n",
    "    \"\"\"\n",
    "    Mirror of the original pandas workflow, but using polars.\n",
    "    1. Identify columns with infinite, NaN, or zero‐std and drop them.\n",
    "    2. Drop any user‐specified columns (e.g. label or order‐book columns).\n",
    "    3. (You can add normalized/scaling steps here if needed.)\n",
    "    \"\"\"\n",
    "    df = train.clone()\n",
    "\n",
    "    df = feature_engineering(df)\n",
    "    \n",
    "    #### Preprocessing\n",
    "    cols_inf = get_cols_inf(df)\n",
    "    print(\"Columns with infinite values:\", cols_inf)\n",
    "\n",
    "    cols_nan = get_nan_columns(df)\n",
    "    print(\"Columns with NaN values:\", cols_nan)\n",
    "\n",
    "    cols_zerostd = get_cols_zerostd(df)\n",
    "    print(\"Columns with zero standard deviation:\", cols_zerostd)\n",
    "    # Drop columns with infinite, NaN, or zero‐std values\n",
    "    drop_columns = list(set(cols_inf) | set(cols_nan) | set(cols_zerostd) | set(columns_to_drop))\n",
    "    if drop_columns:\n",
    "        df = df.drop(drop_columns)\n",
    "    # df = df.sort(\"timestamp\", descending=False)\n",
    "    return df, drop_columns\n",
    "\n",
    "def preprocess_test(test: pl.DataFrame, columns_to_drop: list[str] = []) -> pl.DataFrame:\n",
    "    df = test.clone()\n",
    "    df = feature_engineering(df)\n",
    "    df = df.drop(columns_to_drop)\n",
    "    print(\"Columns dropped from test set:\", columns_to_drop)\n",
    "    return df"
   ]
  },
  {
   "cell_type": "markdown",
   "id": "6e0f1ee7",
   "metadata": {
    "papermill": {
     "duration": 0.002673,
     "end_time": "2025-06-03T09:47:08.520904",
     "exception": false,
     "start_time": "2025-06-03T09:47:08.518231",
     "status": "completed"
    },
    "tags": []
   },
   "source": [
    "# Data"
   ]
  },
  {
   "cell_type": "code",
   "execution_count": 3,
   "id": "f4500dde",
   "metadata": {
    "execution": {
     "iopub.execute_input": "2025-06-03T09:47:08.527893Z",
     "iopub.status.busy": "2025-06-03T09:47:08.527460Z",
     "iopub.status.idle": "2025-06-03T09:47:24.428238Z",
     "shell.execute_reply": "2025-06-03T09:47:24.427457Z"
    },
    "papermill": {
     "duration": 15.905967,
     "end_time": "2025-06-03T09:47:24.429666",
     "exception": false,
     "start_time": "2025-06-03T09:47:08.523699",
     "status": "completed"
    },
    "tags": []
   },
   "outputs": [
    {
     "name": "stdout",
     "output_type": "stream",
     "text": [
      "Columns with infinite values: ['X697', 'X698', 'X699', 'X700', 'X701', 'X702', 'X703', 'X704', 'X705', 'X706', 'X707', 'X708', 'X709', 'X710', 'X711', 'X712', 'X713', 'X714', 'X715', 'X716', 'X717']\n",
      "Columns with NaN values: []\n",
      "Columns with zero standard deviation: ['X864', 'X867', 'X869', 'X870', 'X871', 'X872']\n"
     ]
    },
    {
     "data": {
      "text/html": [
       "<div><style>\n",
       ".dataframe > thead > tr,\n",
       ".dataframe > tbody > tr {\n",
       "  text-align: right;\n",
       "  white-space: pre-wrap;\n",
       "}\n",
       "</style>\n",
       "<small>shape: (525_887, 871)</small><table border=\"1\" class=\"dataframe\"><thead><tr><th>volume</th><th>X1</th><th>X2</th><th>X3</th><th>X4</th><th>X5</th><th>X6</th><th>X7</th><th>X8</th><th>X9</th><th>X10</th><th>X11</th><th>X12</th><th>X13</th><th>X14</th><th>X15</th><th>X16</th><th>X17</th><th>X18</th><th>X19</th><th>X20</th><th>X21</th><th>X22</th><th>X23</th><th>X24</th><th>X25</th><th>X26</th><th>X27</th><th>X28</th><th>X29</th><th>X30</th><th>X31</th><th>X32</th><th>X33</th><th>X34</th><th>X35</th><th>X36</th><th>&hellip;</th><th>X855</th><th>X856</th><th>X857</th><th>X858</th><th>X859</th><th>X860</th><th>X861</th><th>X862</th><th>X863</th><th>X865</th><th>X866</th><th>X868</th><th>X873</th><th>X874</th><th>X875</th><th>X876</th><th>X877</th><th>X878</th><th>X879</th><th>X880</th><th>X881</th><th>X882</th><th>X883</th><th>X884</th><th>X885</th><th>X886</th><th>X887</th><th>X888</th><th>X889</th><th>X890</th><th>timestamp</th><th>bidask_ratio</th><th>buysell_ratio</th><th>bidask_delta</th><th>buysell_delta</th><th>buysell_size</th><th>bidask_size</th></tr><tr><td>f64</td><td>f64</td><td>f64</td><td>f64</td><td>f64</td><td>f64</td><td>f64</td><td>f64</td><td>f64</td><td>f64</td><td>f64</td><td>f64</td><td>f64</td><td>f64</td><td>f64</td><td>f64</td><td>f64</td><td>f64</td><td>f64</td><td>f64</td><td>f64</td><td>f64</td><td>f64</td><td>f64</td><td>f64</td><td>f64</td><td>f64</td><td>f64</td><td>f64</td><td>f64</td><td>f64</td><td>f64</td><td>f64</td><td>f64</td><td>f64</td><td>f64</td><td>f64</td><td>&hellip;</td><td>f64</td><td>f64</td><td>f64</td><td>f64</td><td>f64</td><td>f64</td><td>f64</td><td>f64</td><td>f64</td><td>f64</td><td>f64</td><td>f64</td><td>f64</td><td>f64</td><td>f64</td><td>f64</td><td>f64</td><td>f64</td><td>f64</td><td>f64</td><td>f64</td><td>f64</td><td>f64</td><td>f64</td><td>f64</td><td>f64</td><td>f64</td><td>f64</td><td>f64</td><td>f64</td><td>datetime[ns]</td><td>f64</td><td>f64</td><td>f64</td><td>f64</td><td>f64</td><td>f64</td></tr></thead><tbody><tr><td>221.389</td><td>0.121263</td><td>-0.41769</td><td>0.005399</td><td>0.125948</td><td>0.058359</td><td>0.027359</td><td>0.03578</td><td>0.068219</td><td>1.034825</td><td>-0.029575</td><td>0.327805</td><td>0.485823</td><td>0.668596</td><td>0.617389</td><td>0.770037</td><td>0.857631</td><td>1.754456</td><td>0.572503</td><td>0.883229</td><td>0.58567</td><td>0.816321</td><td>0.529973</td><td>0.508244</td><td>0.448616</td><td>1.341892</td><td>1.406392</td><td>0.953631</td><td>1.183991</td><td>1.474789</td><td>0.774389</td><td>0.660586</td><td>0.269043</td><td>0.962802</td><td>0.966513</td><td>0.952759</td><td>0.952916</td><td>&hellip;</td><td>0.418618</td><td>-0.216525</td><td>0.200508</td><td>0.492433</td><td>-0.51249</td><td>0.541286</td><td>-0.336399</td><td>-1.027483</td><td>0.21857</td><td>1.728155</td><td>0.62414</td><td>-0.051211</td><td>0.691754</td><td>0.242124</td><td>2.096157</td><td>3.369195</td><td>0.244667</td><td>0.286611</td><td>0.722679</td><td>0.901931</td><td>1.000007</td><td>1.925423</td><td>1.847943</td><td>0.005676</td><td>0.190791</td><td>0.369691</td><td>0.37763</td><td>0.210153</td><td>0.159183</td><td>0.530636</td><td>2023-03-01 00:00:00</td><td>1.814006</td><td>3.921505</td><td>6.858</td><td>131.421</td><td>221.389</td><td>23.708</td></tr><tr><td>847.796</td><td>0.302841</td><td>-0.049576</td><td>0.356667</td><td>0.481087</td><td>0.237954</td><td>0.208359</td><td>0.217057</td><td>0.249624</td><td>0.948694</td><td>-0.183488</td><td>0.150526</td><td>0.308421</td><td>0.492232</td><td>0.529787</td><td>0.682958</td><td>0.770965</td><td>1.686504</td><td>0.273357</td><td>0.591695</td><td>0.442391</td><td>0.674792</td><td>0.460741</td><td>0.439681</td><td>0.380399</td><td>1.304113</td><td>1.003783</td><td>0.776628</td><td>1.015943</td><td>1.312735</td><td>0.696895</td><td>0.584217</td><td>0.231104</td><td>0.935145</td><td>0.938957</td><td>0.918275</td><td>0.919065</td><td>&hellip;</td><td>0.424977</td><td>-0.180112</td><td>0.213252</td><td>0.479806</td><td>-0.180527</td><td>0.450331</td><td>-0.31915</td><td>-1.024055</td><td>0.088014</td><td>1.665698</td><td>0.622775</td><td>-0.079621</td><td>0.691665</td><td>0.242091</td><td>2.46103</td><td>4.127584</td><td>0.321394</td><td>0.31246</td><td>0.746452</td><td>0.912371</td><td>1.003153</td><td>1.928569</td><td>1.849468</td><td>0.005227</td><td>0.18466</td><td>0.363642</td><td>0.374515</td><td>0.209573</td><td>0.158963</td><td>0.530269</td><td>2023-03-01 00:01:00</td><td>16.519692</td><td>1.633316</td><td>36.254</td><td>203.896</td><td>847.796</td><td>40.926</td></tr><tr><td>295.596</td><td>0.167462</td><td>-0.291212</td><td>0.083138</td><td>0.206881</td><td>0.101727</td><td>0.072778</td><td>0.081564</td><td>0.114166</td><td>0.896459</td><td>-0.261779</td><td>0.044571</td><td>0.200608</td><td>0.384558</td><td>0.476229</td><td>0.629848</td><td>0.718232</td><td>1.656707</td><td>0.140156</td><td>0.457268</td><td>0.376524</td><td>0.610116</td><td>0.429751</td><td>0.409316</td><td>0.350359</td><td>1.28325</td><td>0.760801</td><td>0.670816</td><td>0.917205</td><td>1.219124</td><td>0.653355</td><td>0.541739</td><td>0.210095</td><td>0.932614</td><td>0.936476</td><td>0.919497</td><td>0.92028</td><td>&hellip;</td><td>0.409942</td><td>-0.265966</td><td>0.191734</td><td>0.440207</td><td>-0.108209</td><td>0.420681</td><td>-0.316953</td><td>-1.024056</td><td>-0.147363</td><td>1.666893</td><td>0.621414</td><td>-0.080427</td><td>0.691674</td><td>0.242093</td><td>2.493249</td><td>4.182112</td><td>0.326701</td><td>0.314636</td><td>0.746681</td><td>0.911129</td><td>1.002502</td><td>1.928047</td><td>1.849282</td><td>0.004796</td><td>0.178719</td><td>0.357689</td><td>0.371424</td><td>0.208993</td><td>0.158744</td><td>0.529901</td><td>2023-03-01 00:02:00</td><td>0.007336</td><td>1.167619</td><td>-59.808</td><td>22.858</td><td>295.596</td><td>60.692</td></tr><tr><td>460.705</td><td>0.072944</td><td>-0.43659</td><td>-0.102483</td><td>0.017551</td><td>0.007149</td><td>-0.021681</td><td>-0.012936</td><td>0.019634</td><td>0.732634</td><td>-0.535845</td><td>-0.273947</td><td>-0.124959</td><td>0.056438</td><td>0.311539</td><td>0.465377</td><td>0.554022</td><td>1.663491</td><td>0.152084</td><td>0.468778</td><td>0.383696</td><td>0.618529</td><td>0.435326</td><td>0.415523</td><td>0.356895</td><td>1.319538</td><td>0.955549</td><td>0.789646</td><td>1.044941</td><td>1.353001</td><td>0.72392</td><td>0.613462</td><td>0.246212</td><td>0.936911</td><td>0.942204</td><td>0.940304</td><td>0.942497</td><td>&hellip;</td><td>0.400075</td><td>-0.322244</td><td>0.183687</td><td>0.404295</td><td>-0.169373</td><td>0.386584</td><td>-0.314775</td><td>-1.024058</td><td>-0.09459</td><td>1.735322</td><td>0.620057</td><td>-0.094702</td><td>0.69121</td><td>0.24193</td><td>2.525526</td><td>4.292975</td><td>0.350791</td><td>0.32357</td><td>0.753829</td><td>0.913363</td><td>1.002985</td><td>1.928621</td><td>1.849608</td><td>0.004398</td><td>0.172967</td><td>0.351832</td><td>0.368358</td><td>0.208416</td><td>0.158524</td><td>0.529534</td><td>2023-03-01 00:03:00</td><td>0.23149</td><td>2.686731</td><td>-16.151</td><td>210.779</td><td>460.705</td><td>25.881</td></tr><tr><td>142.818</td><td>0.17382</td><td>-0.213489</td><td>0.096067</td><td>0.215709</td><td>0.107133</td><td>0.078976</td><td>0.087818</td><td>0.120426</td><td>0.763537</td><td>-0.430945</td><td>-0.205298</td><td>-0.062118</td><td>0.117266</td><td>0.341493</td><td>0.495591</td><td>0.584519</td><td>1.668419</td><td>0.156177</td><td>0.472732</td><td>0.3871</td><td>0.623192</td><td>0.439034</td><td>0.419868</td><td>0.361572</td><td>1.324595</td><td>0.90546</td><td>0.78375</td><td>1.047708</td><td>1.36188</td><td>0.732001</td><td>0.622712</td><td>0.251095</td><td>0.931761</td><td>0.936818</td><td>0.928362</td><td>0.930464</td><td>&hellip;</td><td>0.391759</td><td>-0.369625</td><td>0.192377</td><td>0.415438</td><td>-0.198976</td><td>0.389969</td><td>-0.312628</td><td>-1.02406</td><td>0.162221</td><td>1.712096</td><td>0.618703</td><td>-0.091884</td><td>0.691207</td><td>0.241928</td><td>2.52443</td><td>4.306694</td><td>0.335599</td><td>0.31907</td><td>0.747533</td><td>0.908904</td><td>1.001286</td><td>1.927084</td><td>1.84895</td><td>0.004008</td><td>0.167391</td><td>0.346066</td><td>0.365314</td><td>0.207839</td><td>0.158304</td><td>0.529167</td><td>2023-03-01 00:04:00</td><td>7.869603</td><td>2.216115</td><td>23.707</td><td>54.004</td><td>142.818</td><td>30.609</td></tr><tr><td>&hellip;</td><td>&hellip;</td><td>&hellip;</td><td>&hellip;</td><td>&hellip;</td><td>&hellip;</td><td>&hellip;</td><td>&hellip;</td><td>&hellip;</td><td>&hellip;</td><td>&hellip;</td><td>&hellip;</td><td>&hellip;</td><td>&hellip;</td><td>&hellip;</td><td>&hellip;</td><td>&hellip;</td><td>&hellip;</td><td>&hellip;</td><td>&hellip;</td><td>&hellip;</td><td>&hellip;</td><td>&hellip;</td><td>&hellip;</td><td>&hellip;</td><td>&hellip;</td><td>&hellip;</td><td>&hellip;</td><td>&hellip;</td><td>&hellip;</td><td>&hellip;</td><td>&hellip;</td><td>&hellip;</td><td>&hellip;</td><td>&hellip;</td><td>&hellip;</td><td>&hellip;</td><td>&hellip;</td><td>&hellip;</td><td>&hellip;</td><td>&hellip;</td><td>&hellip;</td><td>&hellip;</td><td>&hellip;</td><td>&hellip;</td><td>&hellip;</td><td>&hellip;</td><td>&hellip;</td><td>&hellip;</td><td>&hellip;</td><td>&hellip;</td><td>&hellip;</td><td>&hellip;</td><td>&hellip;</td><td>&hellip;</td><td>&hellip;</td><td>&hellip;</td><td>&hellip;</td><td>&hellip;</td><td>&hellip;</td><td>&hellip;</td><td>&hellip;</td><td>&hellip;</td><td>&hellip;</td><td>&hellip;</td><td>&hellip;</td><td>&hellip;</td><td>&hellip;</td><td>&hellip;</td><td>&hellip;</td><td>&hellip;</td><td>&hellip;</td><td>&hellip;</td><td>&hellip;</td><td>&hellip;</td></tr><tr><td>94.388</td><td>0.020155</td><td>0.076565</td><td>0.228994</td><td>0.288856</td><td>0.151634</td><td>0.108347</td><td>0.088073</td><td>0.073729</td><td>0.071211</td><td>0.460379</td><td>0.494391</td><td>0.372694</td><td>0.270015</td><td>0.089571</td><td>0.096287</td><td>0.109409</td><td>0.78486</td><td>2.031313</td><td>1.673446</td><td>0.641512</td><td>0.772499</td><td>0.773449</td><td>0.956571</td><td>0.899399</td><td>0.477649</td><td>0.120275</td><td>0.017187</td><td>0.166928</td><td>0.519881</td><td>0.607589</td><td>0.797609</td><td>0.31223</td><td>0.459993</td><td>0.47937</td><td>0.48488</td><td>0.454508</td><td>&hellip;</td><td>0.807352</td><td>0.035728</td><td>0.551648</td><td>1.233784</td><td>-0.252775</td><td>-0.040562</td><td>-0.347201</td><td>-0.21873</td><td>0.636555</td><td>0.533902</td><td>0.142461</td><td>-0.768709</td><td>0.260958</td><td>0.197249</td><td>1.776607</td><td>2.702758</td><td>0.204378</td><td>0.270656</td><td>0.750338</td><td>1.060258</td><td>1.450851</td><td>3.219345</td><td>3.340686</td><td>0.008679</td><td>0.224656</td><td>0.401595</td><td>0.393726</td><td>0.212651</td><td>0.136494</td><td>0.243172</td><td>2024-02-29 23:55:00</td><td>0.611756</td><td>0.705263</td><td>-2.642</td><td>-16.314</td><td>94.388</td><td>10.968</td></tr><tr><td>177.372</td><td>0.016262</td><td>0.062527</td><td>0.214072</td><td>0.276463</td><td>0.146521</td><td>0.104164</td><td>0.084063</td><td>0.069788</td><td>0.024066</td><td>0.332808</td><td>0.387194</td><td>0.27384</td><td>0.174273</td><td>0.042308</td><td>0.049073</td><td>0.06222</td><td>0.811096</td><td>1.942052</td><td>1.721022</td><td>0.682607</td><td>0.818153</td><td>0.79747</td><td>0.981444</td><td>0.924992</td><td>0.496542</td><td>0.246743</td><td>0.089766</td><td>0.238524</td><td>0.590531</td><td>0.643586</td><td>0.834236</td><td>0.330893</td><td>0.446043</td><td>0.478758</td><td>0.474246</td><td>0.461256</td><td>&hellip;</td><td>0.813372</td><td>0.052891</td><td>0.572652</td><td>1.236672</td><td>-0.253142</td><td>-0.027268</td><td>-0.220352</td><td>-0.206114</td><td>0.649406</td><td>0.544298</td><td>0.149768</td><td>-0.779659</td><td>0.260872</td><td>0.197186</td><td>1.807592</td><td>2.742924</td><td>0.213951</td><td>0.271922</td><td>0.748216</td><td>1.056653</td><td>1.448602</td><td>3.216719</td><td>3.339353</td><td>0.007928</td><td>0.217422</td><td>0.395019</td><td>0.390476</td><td>0.212063</td><td>0.136305</td><td>0.243004</td><td>2024-02-29 23:56:00</td><td>0.564317</td><td>1.640604</td><td>-1.768</td><td>43.03</td><td>177.372</td><td>6.348</td></tr><tr><td>101.252</td><td>0.045407</td><td>0.109834</td><td>0.263577</td><td>0.329266</td><td>0.174214</td><td>0.13294</td><td>0.113052</td><td>0.098865</td><td>-0.05737</td><td>0.154488</td><td>0.217087</td><td>0.10915</td><td>0.011308</td><td>-0.039019</td><td>-0.032317</td><td>-0.019202</td><td>0.498355</td><td>0.628261</td><td>0.454894</td><td>0.056188</td><td>0.191078</td><td>0.483386</td><td>0.667775</td><td>0.611826</td><td>0.458054</td><td>-0.055595</td><td>-0.062112</td><td>0.083189</td><td>0.432974</td><td>0.565042</td><td>0.756211</td><td>0.292203</td><td>0.365089</td><td>0.420895</td><td>0.399799</td><td>0.422313</td><td>&hellip;</td><td>0.803276</td><td>0.024071</td><td>0.54706</td><td>1.191918</td><td>-0.342808</td><td>-0.065439</td><td>-0.220704</td><td>-0.206118</td><td>0.535593</td><td>0.498593</td><td>0.150411</td><td>-0.805622</td><td>0.260703</td><td>0.197062</td><td>1.7447</td><td>2.73189</td><td>0.210581</td><td>0.268868</td><td>0.741793</td><td>1.050909</td><td>1.445661</td><td>3.213444</td><td>3.33774</td><td>0.007243</td><td>0.210421</td><td>0.388549</td><td>0.387252</td><td>0.211477</td><td>0.136117</td><td>0.242836</td><td>2024-02-29 23:57:00</td><td>1.438736</td><td>2.292427</td><td>1.597</td><td>39.746</td><td>101.252</td><td>8.877</td></tr><tr><td>74.56</td><td>0.124783</td><td>0.244168</td><td>0.408704</td><td>0.480016</td><td>0.251493</td><td>0.211727</td><td>0.19216</td><td>0.178116</td><td>0.111335</td><td>0.44718</td><td>0.53661</td><td>0.439239</td><td>0.345835</td><td>0.129327</td><td>0.136199</td><td>0.149399</td><td>0.803323</td><td>1.680122</td><td>1.620743</td><td>0.655204</td><td>0.794395</td><td>0.78617</td><td>0.971394</td><td>0.916158</td><td>0.496689</td><td>0.230439</td><td>0.089445</td><td>0.23383</td><td>0.582657</td><td>0.640532</td><td>0.832325</td><td>0.330608</td><td>0.441305</td><td>0.467176</td><td>0.460681</td><td>0.446152</td><td>&hellip;</td><td>0.807143</td><td>0.035102</td><td>0.568606</td><td>1.212147</td><td>-0.369407</td><td>-0.035077</td><td>-0.221043</td><td>-0.206122</td><td>0.647059</td><td>0.528757</td><td>0.151051</td><td>-0.774165</td><td>0.260957</td><td>0.197257</td><td>1.74259</td><td>2.643514</td><td>0.203284</td><td>0.264413</td><td>0.733953</td><td>1.044452</td><td>1.442484</td><td>3.209945</td><td>3.33603</td><td>0.006608</td><td>0.203642</td><td>0.382184</td><td>0.384054</td><td>0.210892</td><td>0.135928</td><td>0.242668</td><td>2024-02-29 23:58:00</td><td>1.169353</td><td>0.428489</td><td>0.83</td><td>-29.83</td><td>74.56</td><td>10.632</td></tr><tr><td>303.722</td><td>0.368659</td><td>0.665382</td><td>0.867538</td><td>0.951903</td><td>0.491276</td><td>0.454342</td><td>0.435431</td><td>0.4217</td><td>0.330298</td><td>0.804642</td><td>0.9431</td><td>0.862786</td><td>0.777285</td><td>0.347325</td><td>0.354669</td><td>0.368107</td><td>1.128738</td><td>2.710711</td><td>2.828132</td><td>1.284624</td><td>1.433281</td><td>1.108506</td><td>1.295011</td><td>1.240712</td><td>0.602761</td><td>0.980926</td><td>0.497163</td><td>0.647331</td><td>0.998625</td><td>0.850315</td><td>1.043021</td><td>0.436378</td><td>0.58741</td><td>0.606344</td><td>0.59148</td><td>0.555941</td><td>&hellip;</td><td>0.776366</td><td>-0.052765</td><td>0.597701</td><td>1.450874</td><td>-0.436284</td><td>0.202887</td><td>-0.221368</td><td>-0.206125</td><td>0.331538</td><td>0.669032</td><td>0.151687</td><td>-0.66805</td><td>0.261324</td><td>0.197537</td><td>1.790457</td><td>2.627113</td><td>0.232998</td><td>0.272984</td><td>0.739299</td><td>1.044576</td><td>1.441416</td><td>3.208415</td><td>3.335166</td><td>0.006072</td><td>0.197096</td><td>0.375931</td><td>0.380886</td><td>0.21031</td><td>0.135741</td><td>0.242501</td><td>2024-02-29 23:59:00</td><td>1.015524</td><td>0.398757</td><td>0.06</td><td>-130.552</td><td>303.722</td><td>7.79</td></tr></tbody></table></div>"
      ],
      "text/plain": [
       "shape: (525_887, 871)\n",
       "┌─────────┬──────────┬───────────┬───────────┬───┬────────────┬────────────┬───────────┬───────────┐\n",
       "│ volume  ┆ X1       ┆ X2        ┆ X3        ┆ … ┆ bidask_del ┆ buysell_de ┆ buysell_s ┆ bidask_si │\n",
       "│ ---     ┆ ---      ┆ ---       ┆ ---       ┆   ┆ ta         ┆ lta        ┆ ize       ┆ ze        │\n",
       "│ f64     ┆ f64      ┆ f64       ┆ f64       ┆   ┆ ---        ┆ ---        ┆ ---       ┆ ---       │\n",
       "│         ┆          ┆           ┆           ┆   ┆ f64        ┆ f64        ┆ f64       ┆ f64       │\n",
       "╞═════════╪══════════╪═══════════╪═══════════╪═══╪════════════╪════════════╪═══════════╪═══════════╡\n",
       "│ 221.389 ┆ 0.121263 ┆ -0.41769  ┆ 0.005399  ┆ … ┆ 6.858      ┆ 131.421    ┆ 221.389   ┆ 23.708    │\n",
       "│ 847.796 ┆ 0.302841 ┆ -0.049576 ┆ 0.356667  ┆ … ┆ 36.254     ┆ 203.896    ┆ 847.796   ┆ 40.926    │\n",
       "│ 295.596 ┆ 0.167462 ┆ -0.291212 ┆ 0.083138  ┆ … ┆ -59.808    ┆ 22.858     ┆ 295.596   ┆ 60.692    │\n",
       "│ 460.705 ┆ 0.072944 ┆ -0.43659  ┆ -0.102483 ┆ … ┆ -16.151    ┆ 210.779    ┆ 460.705   ┆ 25.881    │\n",
       "│ 142.818 ┆ 0.17382  ┆ -0.213489 ┆ 0.096067  ┆ … ┆ 23.707     ┆ 54.004     ┆ 142.818   ┆ 30.609    │\n",
       "│ …       ┆ …        ┆ …         ┆ …         ┆ … ┆ …          ┆ …          ┆ …         ┆ …         │\n",
       "│ 94.388  ┆ 0.020155 ┆ 0.076565  ┆ 0.228994  ┆ … ┆ -2.642     ┆ -16.314    ┆ 94.388    ┆ 10.968    │\n",
       "│ 177.372 ┆ 0.016262 ┆ 0.062527  ┆ 0.214072  ┆ … ┆ -1.768     ┆ 43.03      ┆ 177.372   ┆ 6.348     │\n",
       "│ 101.252 ┆ 0.045407 ┆ 0.109834  ┆ 0.263577  ┆ … ┆ 1.597      ┆ 39.746     ┆ 101.252   ┆ 8.877     │\n",
       "│ 74.56   ┆ 0.124783 ┆ 0.244168  ┆ 0.408704  ┆ … ┆ 0.83       ┆ -29.83     ┆ 74.56     ┆ 10.632    │\n",
       "│ 303.722 ┆ 0.368659 ┆ 0.665382  ┆ 0.867538  ┆ … ┆ 0.06       ┆ -130.552   ┆ 303.722   ┆ 7.79      │\n",
       "└─────────┴──────────┴───────────┴───────────┴───┴────────────┴────────────┴───────────┴───────────┘"
      ]
     },
     "execution_count": 3,
     "metadata": {},
     "output_type": "execute_result"
    }
   ],
   "source": [
    "data = pl.read_parquet(\n",
    "    \"/kaggle/input/drw-crypto-market-prediction/train.parquet\"\n",
    ")\n",
    "# data = pl.read_parquet(\n",
    "#     source = \"./data/train.parquet\",\n",
    "# )\n",
    "\n",
    "y = data[\"label\"]\n",
    "X, drop_columns = preprocess_train(\n",
    "    data,\n",
    "    columns_to_drop=[\"label\", \"bid_qty\", \"ask_qty\", \"buy_qty\", \"sell_qty\"]\n",
    ")\n",
    "X"
   ]
  },
  {
   "cell_type": "markdown",
   "id": "182bc213",
   "metadata": {
    "papermill": {
     "duration": 0.003008,
     "end_time": "2025-06-03T09:47:24.436311",
     "exception": false,
     "start_time": "2025-06-03T09:47:24.433303",
     "status": "completed"
    },
    "tags": []
   },
   "source": [
    "# Preprocessing"
   ]
  },
  {
   "cell_type": "code",
   "execution_count": 4,
   "id": "6a97846f",
   "metadata": {
    "execution": {
     "iopub.execute_input": "2025-06-03T09:47:24.444195Z",
     "iopub.status.busy": "2025-06-03T09:47:24.443834Z",
     "iopub.status.idle": "2025-06-03T09:47:26.575992Z",
     "shell.execute_reply": "2025-06-03T09:47:26.575191Z"
    },
    "papermill": {
     "duration": 2.138489,
     "end_time": "2025-06-03T09:47:26.577968",
     "exception": false,
     "start_time": "2025-06-03T09:47:24.439479",
     "status": "completed"
    },
    "tags": []
   },
   "outputs": [],
   "source": [
    "from sklearn.model_selection import train_test_split\n",
    "\n",
    "# Define your date range as Python datetime objects:\n",
    "from datetime import datetime\n",
    "start = datetime(2023, 3, 1, 0, 0)\n",
    "end   = datetime(2024, 2, 29, 23, 59, 59)\n",
    "\n",
    "# === filter on the timestamp column ===\n",
    "# Assume “ts” is the datetime column in X.\n",
    "X_period = X.filter(\n",
    "    (pl.col(\"timestamp\") >= pl.lit(start)) & (pl.col(\"timestamp\") <= pl.lit(end))\n",
    ")\n",
    "\n",
    "# Extract y_period likewise:\n",
    "# In polars, “y” is still a column expression, so filter the original `data`:\n",
    "y_period = data.filter(\n",
    "    (pl.col(\"timestamp\") >= pl.lit(start)) & (pl.col(\"timestamp\") <= pl.lit(end))\n",
    ")[\"label\"]  # This returns a polars Series.\n",
    "\n",
    "# If you need numpy for scikit‐learn, convert now:\n",
    "X_np = X_period.drop([\"timestamp\"]).to_numpy()\n",
    "y_np = y_period.to_numpy()"
   ]
  },
  {
   "cell_type": "markdown",
   "id": "82707c65",
   "metadata": {
    "papermill": {
     "duration": 0.005394,
     "end_time": "2025-06-03T09:47:26.589282",
     "exception": false,
     "start_time": "2025-06-03T09:47:26.583888",
     "status": "completed"
    },
    "tags": []
   },
   "source": [
    "# Model Training"
   ]
  },
  {
   "cell_type": "code",
   "execution_count": 5,
   "id": "fdac576b",
   "metadata": {
    "execution": {
     "iopub.execute_input": "2025-06-03T09:47:26.597663Z",
     "iopub.status.busy": "2025-06-03T09:47:26.596850Z",
     "iopub.status.idle": "2025-06-03T09:59:03.620486Z",
     "shell.execute_reply": "2025-06-03T09:59:03.619060Z"
    },
    "papermill": {
     "duration": 697.031203,
     "end_time": "2025-06-03T09:59:03.623836",
     "exception": false,
     "start_time": "2025-06-03T09:47:26.592633",
     "status": "completed"
    },
    "tags": []
   },
   "outputs": [
    {
     "name": "stdout",
     "output_type": "stream",
     "text": [
      "[LightGBM] [Warning] min_data_in_leaf is set=20, min_child_samples=20 will be ignored. Current value: min_data_in_leaf=20\n",
      "[LightGBM] [Warning] min_data_in_leaf is set=20, min_child_samples=20 will be ignored. Current value: min_data_in_leaf=20\n",
      "[LightGBM] [Info] Auto-choosing col-wise multi-threading, the overhead of testing was 8.901727 seconds.\n",
      "You can set `force_col_wise=true` to remove the overhead.\n",
      "[LightGBM] [Info] Total Bins 221834\n",
      "[LightGBM] [Info] Number of data points in the train set: 525887, number of used features: 870\n",
      "[LightGBM] [Info] Start training from score 0.036126\n"
     ]
    }
   ],
   "source": [
    "from lightgbm import LGBMRegressor\n",
    "\n",
    "def fit_lightgbm_regression(\n",
    "    X: np.ndarray,\n",
    "    y: np.ndarray,\n",
    "    n_estimators: int = 100,\n",
    "    learning_rate: float = 0.1,\n",
    "    num_leaves: int = 31,\n",
    "    **kwargs\n",
    ") -> LGBMRegressor:\n",
    "    \"\"\"\n",
    "    X and y must be NumPy arrays. Since polars DataFrames are not\n",
    "    directly accepted by scikit‐learn/lightgbm, we pass .to_numpy().\n",
    "    \"\"\"\n",
    "    model = LGBMRegressor(\n",
    "        n_estimators=n_estimators,\n",
    "        learning_rate=learning_rate,\n",
    "        num_leaves=num_leaves,\n",
    "        **kwargs\n",
    "    )\n",
    "    model.fit(X, y)\n",
    "    return model\n",
    "\n",
    "model = fit_lightgbm_regression(\n",
    "    X_np,\n",
    "    y_np,\n",
    "    # 1. Learning rate: much lower than 0.3 to allow gradual fitting.\n",
    "    learning_rate=0.05,\n",
    "\n",
    "    # 2. Number of trees: increase so that η·T is roughly O(50–100) in practice.\n",
    "    #    Here, 1000 trees × 0.05 = 50 “effective steps” of gradient boosting.\n",
    "    n_estimators=1000,  \n",
    "\n",
    "    # 3. num_leaves: controls maximum number of terminal nodes per tree.\n",
    "    #    A rule of thumb is ~2^(max_depth). For dataset with moderate complexity,\n",
    "    #    num_leaves=64 (≈2^6) is common; if features are very noisy, reduce it.\n",
    "    num_leaves=64,      \n",
    "\n",
    "    # 4. max_depth: optional cap on tree depth—keeps each tree from growing too deep.\n",
    "    #    If you set max_depth=10, then num_leaves is effectively ≤ 2^10, but\n",
    "    #    most practitioners leave max_depth unset when they tune num_leaves directly.\n",
    "    max_depth=10,        \n",
    "\n",
    "    # 5. min_data_in_leaf (min_child_samples): ensures a leaf has enough observations.\n",
    "    #    E.g., if you have 100 k rows total, min_data_in_leaf=20 or 50 prevents overfitting.\n",
    "    min_data_in_leaf=20, \n",
    "\n",
    "    # 6. subsample (a.k.a. bagging_fraction): to reduce variance, randomly sample rows.\n",
    "    #    0.8 means each tree sees 80 % of data. Coupled with subsample_freq=1 (every tree).\n",
    "    subsample=0.8,       \n",
    "    subsample_freq=1,    \n",
    "\n",
    "    # 7. colsample_bytree (a.k.a. feature_fraction): randomly sample 80 % of features per tree.\n",
    "    colsample_bytree=0.8,\n",
    "\n",
    "    # 8. Regularization: L1 or L2 to further guard against overfitting.\n",
    "    reg_alpha=0.1,   # L1 regularization\n",
    "    reg_lambda=1.0,  # L2 regularization\n",
    "\n",
    "    # 9. Other sensible defaults:\n",
    "    n_jobs=-1,\n",
    "    random_state=42,\n",
    "    verbosity=1,\n",
    ")\n"
   ]
  },
  {
   "cell_type": "code",
   "execution_count": null,
   "id": "273d173d",
   "metadata": {},
   "outputs": [],
   "source": [
    "model = fit_lightgbm_regression(\n",
    "    X_np,\n",
    "    y_np,\n",
    "    learning_rate=0.05,\n",
    "    n_estimators=1000,  \n",
    "    num_leaves=64,      \n",
    "    max_depth=10,        \n",
    "    min_data_in_leaf=20, \n",
    "    subsample=0.8,       \n",
    "    subsample_freq=1,\n",
    "    colsample_bytree=0.8,\n",
    "    reg_alpha=0.1,   # L1 regularization\n",
    "    reg_lambda=1.0,  # L2 regularization\n",
    "    n_jobs=-1,\n",
    "    random_state=42,\n",
    "    verbosity=1,\n",
    ")"
   ]
  },
  {
   "cell_type": "markdown",
   "id": "4eea7feb",
   "metadata": {
    "papermill": {
     "duration": 0.003528,
     "end_time": "2025-06-03T09:59:03.633280",
     "exception": false,
     "start_time": "2025-06-03T09:59:03.629752",
     "status": "completed"
    },
    "tags": []
   },
   "source": [
    "# Predict"
   ]
  },
  {
   "cell_type": "code",
   "execution_count": 6,
   "id": "1498ecfa",
   "metadata": {
    "execution": {
     "iopub.execute_input": "2025-06-03T09:59:03.645581Z",
     "iopub.status.busy": "2025-06-03T09:59:03.644154Z",
     "iopub.status.idle": "2025-06-03T09:59:18.587886Z",
     "shell.execute_reply": "2025-06-03T09:59:18.586910Z"
    },
    "papermill": {
     "duration": 14.950757,
     "end_time": "2025-06-03T09:59:18.589823",
     "exception": false,
     "start_time": "2025-06-03T09:59:03.639066",
     "status": "completed"
    },
    "tags": []
   },
   "outputs": [
    {
     "name": "stdout",
     "output_type": "stream",
     "text": [
      "Columns dropped from test set: ['X702', 'X699', 'X870', 'X867', 'X871', 'X872', 'ask_qty', 'X697', 'X704', 'X703', 'X709', 'X869', 'X710', 'X698', 'X707', 'X705', 'X715', 'X716', 'X708', 'X714', 'X864', 'X701', 'X717', 'X700', 'X706', 'label', 'X711', 'buy_qty', 'bid_qty', 'sell_qty', 'X712', 'X713']\n"
     ]
    },
    {
     "data": {
      "text/html": [
       "<div><style>\n",
       ".dataframe > thead > tr,\n",
       ".dataframe > tbody > tr {\n",
       "  text-align: right;\n",
       "  white-space: pre-wrap;\n",
       "}\n",
       "</style>\n",
       "<small>shape: (538_150, 870)</small><table border=\"1\" class=\"dataframe\"><thead><tr><th>volume</th><th>X1</th><th>X2</th><th>X3</th><th>X4</th><th>X5</th><th>X6</th><th>X7</th><th>X8</th><th>X9</th><th>X10</th><th>X11</th><th>X12</th><th>X13</th><th>X14</th><th>X15</th><th>X16</th><th>X17</th><th>X18</th><th>X19</th><th>X20</th><th>X21</th><th>X22</th><th>X23</th><th>X24</th><th>X25</th><th>X26</th><th>X27</th><th>X28</th><th>X29</th><th>X30</th><th>X31</th><th>X32</th><th>X33</th><th>X34</th><th>X35</th><th>X36</th><th>&hellip;</th><th>X854</th><th>X855</th><th>X856</th><th>X857</th><th>X858</th><th>X859</th><th>X860</th><th>X861</th><th>X862</th><th>X863</th><th>X865</th><th>X866</th><th>X868</th><th>X873</th><th>X874</th><th>X875</th><th>X876</th><th>X877</th><th>X878</th><th>X879</th><th>X880</th><th>X881</th><th>X882</th><th>X883</th><th>X884</th><th>X885</th><th>X886</th><th>X887</th><th>X888</th><th>X889</th><th>X890</th><th>bidask_ratio</th><th>buysell_ratio</th><th>bidask_delta</th><th>buysell_delta</th><th>buysell_size</th><th>bidask_size</th></tr><tr><td>f64</td><td>f64</td><td>f64</td><td>f64</td><td>f64</td><td>f64</td><td>f64</td><td>f64</td><td>f64</td><td>f64</td><td>f64</td><td>f64</td><td>f64</td><td>f64</td><td>f64</td><td>f64</td><td>f64</td><td>f64</td><td>f64</td><td>f64</td><td>f64</td><td>f64</td><td>f64</td><td>f64</td><td>f64</td><td>f64</td><td>f64</td><td>f64</td><td>f64</td><td>f64</td><td>f64</td><td>f64</td><td>f64</td><td>f64</td><td>f64</td><td>f64</td><td>f64</td><td>&hellip;</td><td>f64</td><td>f64</td><td>f64</td><td>f64</td><td>f64</td><td>f64</td><td>f64</td><td>f64</td><td>f64</td><td>f64</td><td>f64</td><td>f64</td><td>f64</td><td>f64</td><td>f64</td><td>f64</td><td>f64</td><td>f64</td><td>f64</td><td>f64</td><td>f64</td><td>f64</td><td>f64</td><td>f64</td><td>f64</td><td>f64</td><td>f64</td><td>f64</td><td>f64</td><td>f64</td><td>f64</td><td>f64</td><td>f64</td><td>f64</td><td>f64</td><td>f64</td><td>f64</td></tr></thead><tbody><tr><td>21.558</td><td>-0.732818</td><td>0.512331</td><td>-0.041982</td><td>-0.59826</td><td>-0.517646</td><td>-0.720098</td><td>-0.76901</td><td>-0.780178</td><td>-0.3365</td><td>0.249788</td><td>-0.156486</td><td>-0.495663</td><td>-0.76273</td><td>-0.471363</td><td>-0.447478</td><td>-0.408999</td><td>0.535565</td><td>-0.171083</td><td>-0.227923</td><td>-0.079453</td><td>-0.041204</td><td>0.048349</td><td>0.151941</td><td>0.240157</td><td>1.353095</td><td>-0.387866</td><td>-0.276421</td><td>-0.243297</td><td>-0.186772</td><td>0.034361</td><td>0.163524</td><td>0.166223</td><td>0.135839</td><td>0.025773</td><td>0.182896</td><td>0.054399</td><td>&hellip;</td><td>0.087326</td><td>0.602466</td><td>0.888982</td><td>0.235755</td><td>-0.074722</td><td>-1.5190e-25</td><td>0.168711</td><td>-0.033501</td><td>0.242743</td><td>-0.270279</td><td>1.051975</td><td>0.43189</td><td>-1.268835</td><td>0.243075</td><td>0.237836</td><td>1.608907</td><td>3.98586</td><td>0.306682</td><td>0.343981</td><td>0.6094</td><td>0.505601</td><td>0.43329</td><td>1.014336</td><td>1.367567</td><td>1.584126</td><td>1.584126</td><td>1.584126</td><td>1.584125</td><td>1.567979</td><td>1.426368</td><td>2.192682</td><td>0.009405</td><td>0.964999</td><td>-12.007</td><td>-0.384</td><td>21.558</td><td>12.235</td></tr><tr><td>148.545</td><td>-0.337995</td><td>-0.412176</td><td>-0.259468</td><td>-0.334809</td><td>-0.247443</td><td>-0.243987</td><td>-0.214849</td><td>-0.224255</td><td>-0.539625</td><td>-0.315144</td><td>-0.202614</td><td>-0.293257</td><td>-0.508739</td><td>-0.333933</td><td>-0.336385</td><td>-0.357372</td><td>-0.348564</td><td>0.065579</td><td>0.139376</td><td>-0.047501</td><td>-0.227728</td><td>-0.145745</td><td>-0.236345</td><td>-0.519209</td><td>1.102136</td><td>0.128703</td><td>0.179227</td><td>0.128473</td><td>0.023283</td><td>0.033936</td><td>-0.123918</td><td>-0.278002</td><td>-0.225812</td><td>-0.2401</td><td>-0.184761</td><td>-0.207515</td><td>&hellip;</td><td>1.111155</td><td>1.187569</td><td>0.174188</td><td>0.353079</td><td>-0.252909</td><td>0.128268</td><td>-0.502716</td><td>0.373259</td><td>0.955962</td><td>-0.356306</td><td>0.38169</td><td>0.718047</td><td>-1.204197</td><td>0.149122</td><td>0.210784</td><td>3.143691</td><td>3.913445</td><td>0.231629</td><td>0.312275</td><td>0.68531</td><td>0.661501</td><td>0.725448</td><td>1.748939</td><td>1.848177</td><td>0.000131</td><td>0.000323</td><td>0.001746</td><td>0.007319</td><td>0.050925</td><td>0.142206</td><td>0.739759</td><td>0.819041</td><td>11.072903</td><td>-0.536</td><td>123.937</td><td>148.545</td><td>5.388</td></tr><tr><td>80.561</td><td>0.111249</td><td>0.458221</td><td>0.466916</td><td>0.574081</td><td>0.324722</td><td>0.291298</td><td>0.295451</td><td>0.324332</td><td>-0.007327</td><td>0.351338</td><td>0.358218</td><td>0.329307</td><td>0.29087</td><td>0.012313</td><td>-0.008258</td><td>0.057786</td><td>0.332306</td><td>0.167834</td><td>0.197985</td><td>0.10225</td><td>0.060063</td><td>-0.139541</td><td>-0.224249</td><td>-0.24603</td><td>0.215433</td><td>0.150163</td><td>0.046509</td><td>0.044225</td><td>0.003683</td><td>-0.21376</td><td>-0.408667</td><td>-0.295609</td><td>0.029641</td><td>0.029593</td><td>0.021453</td><td>0.021404</td><td>&hellip;</td><td>0.665538</td><td>0.589635</td><td>-0.26551</td><td>-0.340681</td><td>-0.002949</td><td>0.136127</td><td>0.273964</td><td>0.286688</td><td>-0.488119</td><td>0.268433</td><td>0.230857</td><td>0.192657</td><td>-0.618164</td><td>0.252338</td><td>0.203609</td><td>1.702517</td><td>3.665623</td><td>0.229644</td><td>0.278697</td><td>0.592664</td><td>0.629683</td><td>0.743693</td><td>1.70468</td><td>1.772028</td><td>0.00055</td><td>0.003597</td><td>0.009265</td><td>0.019948</td><td>0.072535</td><td>0.169672</td><td>0.807862</td><td>0.463082</td><td>0.409124</td><td>-1.258</td><td>-33.781</td><td>80.561</td><td>3.428</td></tr><tr><td>129.6</td><td>-0.149399</td><td>-0.640638</td><td>-0.873778</td><td>-1.026144</td><td>-0.508816</td><td>-0.318499</td><td>-0.27099</td><td>-0.26999</td><td>-0.206264</td><td>-0.491395</td><td>-0.791609</td><td>-0.849243</td><td>-0.737791</td><td>-0.213973</td><td>-0.258329</td><td>-0.334767</td><td>-0.501566</td><td>-0.143377</td><td>-0.101949</td><td>-0.043811</td><td>-0.021846</td><td>0.030501</td><td>-0.010734</td><td>-0.143917</td><td>1.89793</td><td>0.166798</td><td>0.151133</td><td>0.156303</td><td>0.179812</td><td>0.145286</td><td>0.095092</td><td>-0.050541</td><td>-0.233126</td><td>-0.197698</td><td>-0.239907</td><td>-0.210529</td><td>&hellip;</td><td>0.140885</td><td>0.945045</td><td>1.247777</td><td>-0.175964</td><td>-0.279785</td><td>-4.2727e-43</td><td>-0.312154</td><td>0.121647</td><td>0.145365</td><td>-0.364048</td><td>0.338114</td><td>0.409994</td><td>-2.191214</td><td>0.16445</td><td>0.23466</td><td>2.349036</td><td>3.508278</td><td>0.164611</td><td>0.178355</td><td>0.380719</td><td>0.406191</td><td>0.451041</td><td>0.930946</td><td>1.037839</td><td>1.382037</td><td>1.382037</td><td>1.382037</td><td>1.382037</td><td>1.381752</td><td>1.363445</td><td>2.465509</td><td>13.243509</td><td>8.906742</td><td>13.676</td><td>103.436</td><td>129.6</td><td>15.91</td></tr><tr><td>93.636</td><td>-0.694662</td><td>0.611254</td><td>0.067671</td><td>-0.531632</td><td>-0.58145</td><td>-0.670998</td><td>-0.658519</td><td>-0.641033</td><td>-0.709044</td><td>0.522476</td><td>0.176614</td><td>-0.358</td><td>-0.913063</td><td>-0.542747</td><td>-0.549789</td><td>-0.535438</td><td>-0.039</td><td>0.497418</td><td>0.220629</td><td>0.023939</td><td>-0.064359</td><td>-0.030559</td><td>-0.063269</td><td>-0.141931</td><td>2.018999</td><td>-0.201351</td><td>-0.259154</td><td>-0.308402</td><td>-0.341364</td><td>-0.106369</td><td>0.003638</td><td>0.151764</td><td>-0.216639</td><td>-0.262946</td><td>-0.172207</td><td>-0.242251</td><td>&hellip;</td><td>0.587153</td><td>0.528421</td><td>0.286078</td><td>-0.345662</td><td>-0.122057</td><td>-0.969495</td><td>0.065162</td><td>0.172275</td><td>-0.38339</td><td>0.184046</td><td>0.815732</td><td>0.357557</td><td>0.096416</td><td>0.255045</td><td>0.234342</td><td>2.245113</td><td>4.026028</td><td>0.576855</td><td>0.453086</td><td>0.78344</td><td>0.68716</td><td>0.602724</td><td>1.080267</td><td>1.141878</td><td>0.000363</td><td>0.012718</td><td>0.137533</td><td>0.464112</td><td>1.050577</td><td>1.268567</td><td>2.499015</td><td>0.002328</td><td>0.878883</td><td>-14.145</td><td>-6.036</td><td>93.636</td><td>14.211</td></tr><tr><td>&hellip;</td><td>&hellip;</td><td>&hellip;</td><td>&hellip;</td><td>&hellip;</td><td>&hellip;</td><td>&hellip;</td><td>&hellip;</td><td>&hellip;</td><td>&hellip;</td><td>&hellip;</td><td>&hellip;</td><td>&hellip;</td><td>&hellip;</td><td>&hellip;</td><td>&hellip;</td><td>&hellip;</td><td>&hellip;</td><td>&hellip;</td><td>&hellip;</td><td>&hellip;</td><td>&hellip;</td><td>&hellip;</td><td>&hellip;</td><td>&hellip;</td><td>&hellip;</td><td>&hellip;</td><td>&hellip;</td><td>&hellip;</td><td>&hellip;</td><td>&hellip;</td><td>&hellip;</td><td>&hellip;</td><td>&hellip;</td><td>&hellip;</td><td>&hellip;</td><td>&hellip;</td><td>&hellip;</td><td>&hellip;</td><td>&hellip;</td><td>&hellip;</td><td>&hellip;</td><td>&hellip;</td><td>&hellip;</td><td>&hellip;</td><td>&hellip;</td><td>&hellip;</td><td>&hellip;</td><td>&hellip;</td><td>&hellip;</td><td>&hellip;</td><td>&hellip;</td><td>&hellip;</td><td>&hellip;</td><td>&hellip;</td><td>&hellip;</td><td>&hellip;</td><td>&hellip;</td><td>&hellip;</td><td>&hellip;</td><td>&hellip;</td><td>&hellip;</td><td>&hellip;</td><td>&hellip;</td><td>&hellip;</td><td>&hellip;</td><td>&hellip;</td><td>&hellip;</td><td>&hellip;</td><td>&hellip;</td><td>&hellip;</td><td>&hellip;</td><td>&hellip;</td><td>&hellip;</td><td>&hellip;</td></tr><tr><td>117.261</td><td>0.198687</td><td>0.135445</td><td>0.505441</td><td>0.753963</td><td>0.410612</td><td>0.306174</td><td>0.289102</td><td>0.32499</td><td>0.729853</td><td>0.325204</td><td>1.085678</td><td>1.431536</td><td>1.419513</td><td>0.570386</td><td>0.615125</td><td>0.747517</td><td>1.836788</td><td>0.553637</td><td>1.026012</td><td>0.573284</td><td>0.696552</td><td>0.774605</td><td>1.129025</td><td>1.469263</td><td>2.108377</td><td>0.28232</td><td>0.119491</td><td>0.030734</td><td>0.097749</td><td>0.49172</td><td>0.929869</td><td>0.788478</td><td>0.870172</td><td>0.92816</td><td>0.897521</td><td>0.952439</td><td>&hellip;</td><td>1.203819</td><td>1.003302</td><td>0.418028</td><td>0.582676</td><td>0.640543</td><td>0.095304</td><td>0.852907</td><td>0.010261</td><td>-0.280154</td><td>-0.064651</td><td>2.095047</td><td>0.397575</td><td>-0.018446</td><td>0.249358</td><td>0.227386</td><td>1.773041</td><td>3.005705</td><td>0.559482</td><td>0.406204</td><td>0.684409</td><td>0.773015</td><td>1.023725</td><td>2.185495</td><td>2.257754</td><td>1.239053</td><td>0.646543</td><td>0.36806</td><td>0.196958</td><td>0.074014</td><td>0.059849</td><td>0.245092</td><td>3.695316</td><td>1.746738</td><td>6.272</td><td>31.879</td><td>117.261</td><td>10.926</td></tr><tr><td>64.208</td><td>-0.451693</td><td>-0.433553</td><td>-0.232846</td><td>-0.190379</td><td>-0.215448</td><td>-0.454212</td><td>-0.517093</td><td>-0.514747</td><td>-0.308224</td><td>-0.00429</td><td>0.114162</td><td>-0.00721</td><td>-0.424173</td><td>-0.539669</td><td>-0.566827</td><td>-0.522195</td><td>1.381301</td><td>0.063865</td><td>0.13718</td><td>0.009016</td><td>-0.021502</td><td>0.176172</td><td>0.418806</td><td>0.633591</td><td>1.822786</td><td>-0.019996</td><td>-0.031023</td><td>-0.12061</td><td>-0.084458</td><td>0.356403</td><td>0.832482</td><td>0.61472</td><td>0.325817</td><td>0.34695</td><td>0.409159</td><td>0.433315</td><td>&hellip;</td><td>1.509983</td><td>1.763117</td><td>0.948866</td><td>0.498332</td><td>-0.529497</td><td>0.493532</td><td>-0.374436</td><td>-0.087166</td><td>-0.177066</td><td>0.186569</td><td>1.703517</td><td>0.812692</td><td>-1.342336</td><td>0.237381</td><td>0.237922</td><td>2.230804</td><td>4.22938</td><td>0.205731</td><td>0.31069</td><td>0.717422</td><td>0.840936</td><td>0.901631</td><td>1.776626</td><td>1.724998</td><td>0.000021</td><td>0.000027</td><td>0.000029</td><td>0.000083</td><td>0.049487</td><td>0.2749</td><td>1.162933</td><td>0.689008</td><td>2.352723</td><td>-2.269</td><td>25.906</td><td>64.208</td><td>12.323</td></tr><tr><td>62.209</td><td>0.574457</td><td>0.48224</td><td>1.07644</td><td>1.363869</td><td>0.779195</td><td>0.670684</td><td>0.564027</td><td>0.556401</td><td>0.63542</td><td>0.286962</td><td>0.862118</td><td>1.196873</td><td>1.38265</td><td>0.506039</td><td>0.39349</td><td>0.414183</td><td>0.379163</td><td>0.197129</td><td>0.250243</td><td>0.099678</td><td>0.057377</td><td>-0.004603</td><td>-0.000444</td><td>-0.06885</td><td>1.304604</td><td>0.224014</td><td>-0.064912</td><td>-0.376931</td><td>-0.696543</td><td>-0.555989</td><td>-0.742085</td><td>-0.49279</td><td>0.154908</td><td>0.169272</td><td>0.115327</td><td>0.141064</td><td>&hellip;</td><td>1.025781</td><td>0.684136</td><td>0.493307</td><td>-0.142105</td><td>0.405009</td><td>-0.434661</td><td>0.156975</td><td>0.13996</td><td>-0.293231</td><td>0.007022</td><td>0.545298</td><td>0.49279</td><td>-0.737421</td><td>0.256021</td><td>0.243572</td><td>1.959328</td><td>3.369222</td><td>0.372525</td><td>0.330779</td><td>0.632952</td><td>0.628388</td><td>0.685204</td><td>1.340804</td><td>1.420642</td><td>0.0006</td><td>0.00574</td><td>0.089671</td><td>0.374153</td><td>0.977561</td><td>1.223688</td><td>2.454477</td><td>12.125237</td><td>0.624977</td><td>11.726</td><td>-14.357</td><td>62.209</td><td>13.834</td></tr><tr><td>163.173</td><td>-0.560855</td><td>-0.324104</td><td>-0.356042</td><td>-0.45153</td><td>-0.30604</td><td>-0.402684</td><td>-0.468723</td><td>-0.527814</td><td>-0.472296</td><td>0.310539</td><td>0.237107</td><td>0.088514</td><td>-0.112136</td><td>-0.179829</td><td>-0.277702</td><td>-0.370524</td><td>-1.160989</td><td>-0.332739</td><td>-0.468868</td><td>-0.347465</td><td>-0.61089</td><td>-0.871605</td><td>-1.347199</td><td>-1.655619</td><td>1.122232</td><td>0.229955</td><td>0.038826</td><td>-0.129316</td><td>-0.453353</td><td>-0.715904</td><td>-0.785402</td><td>-0.19266</td><td>-0.246434</td><td>-0.242988</td><td>-0.229998</td><td>-0.231492</td><td>&hellip;</td><td>1.684115</td><td>-1.453581</td><td>-0.693012</td><td>0.015774</td><td>0.017319</td><td>-0.245766</td><td>-0.443753</td><td>0.630373</td><td>-1.183208</td><td>0.164258</td><td>0.125945</td><td>0.810227</td><td>-0.392165</td><td>0.184982</td><td>0.225708</td><td>4.109402</td><td>4.230086</td><td>0.856037</td><td>0.570565</td><td>1.006882</td><td>0.981841</td><td>1.111372</td><td>2.742464</td><td>3.034341</td><td>0.000089</td><td>0.000102</td><td>0.000153</td><td>0.000627</td><td>0.021699</td><td>0.044349</td><td>0.180866</td><td>3.06823</td><td>0.460749</td><td>2.91</td><td>-60.237</td><td>163.173</td><td>5.724</td></tr><tr><td>108.512</td><td>1.045994</td><td>0.798777</td><td>0.594541</td><td>0.705001</td><td>0.53542</td><td>0.921135</td><td>1.017739</td><td>0.986237</td><td>1.531787</td><td>0.298257</td><td>0.234764</td><td>0.488376</td><td>1.145785</td><td>1.173612</td><td>1.287763</td><td>1.218452</td><td>3.027212</td><td>0.407795</td><td>0.895503</td><td>0.830791</td><td>1.598489</td><td>1.397778</td><td>1.517165</td><td>1.53402</td><td>2.140661</td><td>1.199833</td><td>1.027621</td><td>1.526052</td><td>2.308771</td><td>1.705892</td><td>1.707196</td><td>0.783446</td><td>2.067102</td><td>2.247988</td><td>2.068673</td><td>2.204086</td><td>&hellip;</td><td>0.510243</td><td>0.421063</td><td>-0.477348</td><td>0.829975</td><td>0.968218</td><td>-4.0410e-20</td><td>1.203034</td><td>0.026541</td><td>-1.216324</td><td>-0.049451</td><td>2.798341</td><td>0.63108</td><td>1.811007</td><td>0.265525</td><td>0.254603</td><td>2.135563</td><td>4.301458</td><td>0.583409</td><td>0.736836</td><td>1.635458</td><td>1.673541</td><td>1.296325</td><td>2.402256</td><td>2.40492</td><td>1.583312</td><td>1.583312</td><td>1.583312</td><td>1.583283</td><td>1.542324</td><td>1.331949</td><td>1.935396</td><td>1137.5</td><td>0.815675</td><td>2.273</td><td>-11.016</td><td>108.512</td><td>2.277</td></tr></tbody></table></div>"
      ],
      "text/plain": [
       "shape: (538_150, 870)\n",
       "┌─────────┬───────────┬───────────┬───────────┬───┬────────────┬───────────┬───────────┬───────────┐\n",
       "│ volume  ┆ X1        ┆ X2        ┆ X3        ┆ … ┆ bidask_del ┆ buysell_d ┆ buysell_s ┆ bidask_si │\n",
       "│ ---     ┆ ---       ┆ ---       ┆ ---       ┆   ┆ ta         ┆ elta      ┆ ize       ┆ ze        │\n",
       "│ f64     ┆ f64       ┆ f64       ┆ f64       ┆   ┆ ---        ┆ ---       ┆ ---       ┆ ---       │\n",
       "│         ┆           ┆           ┆           ┆   ┆ f64        ┆ f64       ┆ f64       ┆ f64       │\n",
       "╞═════════╪═══════════╪═══════════╪═══════════╪═══╪════════════╪═══════════╪═══════════╪═══════════╡\n",
       "│ 21.558  ┆ -0.732818 ┆ 0.512331  ┆ -0.041982 ┆ … ┆ -12.007    ┆ -0.384    ┆ 21.558    ┆ 12.235    │\n",
       "│ 148.545 ┆ -0.337995 ┆ -0.412176 ┆ -0.259468 ┆ … ┆ -0.536     ┆ 123.937   ┆ 148.545   ┆ 5.388     │\n",
       "│ 80.561  ┆ 0.111249  ┆ 0.458221  ┆ 0.466916  ┆ … ┆ -1.258     ┆ -33.781   ┆ 80.561    ┆ 3.428     │\n",
       "│ 129.6   ┆ -0.149399 ┆ -0.640638 ┆ -0.873778 ┆ … ┆ 13.676     ┆ 103.436   ┆ 129.6     ┆ 15.91     │\n",
       "│ 93.636  ┆ -0.694662 ┆ 0.611254  ┆ 0.067671  ┆ … ┆ -14.145    ┆ -6.036    ┆ 93.636    ┆ 14.211    │\n",
       "│ …       ┆ …         ┆ …         ┆ …         ┆ … ┆ …          ┆ …         ┆ …         ┆ …         │\n",
       "│ 117.261 ┆ 0.198687  ┆ 0.135445  ┆ 0.505441  ┆ … ┆ 6.272      ┆ 31.879    ┆ 117.261   ┆ 10.926    │\n",
       "│ 64.208  ┆ -0.451693 ┆ -0.433553 ┆ -0.232846 ┆ … ┆ -2.269     ┆ 25.906    ┆ 64.208    ┆ 12.323    │\n",
       "│ 62.209  ┆ 0.574457  ┆ 0.48224   ┆ 1.07644   ┆ … ┆ 11.726     ┆ -14.357   ┆ 62.209    ┆ 13.834    │\n",
       "│ 163.173 ┆ -0.560855 ┆ -0.324104 ┆ -0.356042 ┆ … ┆ 2.91       ┆ -60.237   ┆ 163.173   ┆ 5.724     │\n",
       "│ 108.512 ┆ 1.045994  ┆ 0.798777  ┆ 0.594541  ┆ … ┆ 2.273      ┆ -11.016   ┆ 108.512   ┆ 2.277     │\n",
       "└─────────┴───────────┴───────────┴───────────┴───┴────────────┴───────────┴───────────┴───────────┘"
      ]
     },
     "execution_count": 6,
     "metadata": {},
     "output_type": "execute_result"
    }
   ],
   "source": [
    "test = pl.read_parquet(\"/kaggle/input/drw-crypto-market-prediction/test.parquet\")\n",
    "# test = pl.read_parquet(\n",
    "#     source = \"./data/test.parquet\",\n",
    "# )\n",
    "test = test.with_row_index(\"ID\", offset=1)\n",
    "X_test = preprocess_test(test, columns_to_drop=drop_columns).drop([\"ID\"])\n",
    "X_test"
   ]
  },
  {
   "cell_type": "code",
   "execution_count": 7,
   "id": "bc9f1767",
   "metadata": {
    "execution": {
     "iopub.execute_input": "2025-06-03T09:59:18.600516Z",
     "iopub.status.busy": "2025-06-03T09:59:18.600200Z",
     "iopub.status.idle": "2025-06-03T09:59:50.274705Z",
     "shell.execute_reply": "2025-06-03T09:59:50.273754Z"
    },
    "papermill": {
     "duration": 31.685641,
     "end_time": "2025-06-03T09:59:50.279720",
     "exception": false,
     "start_time": "2025-06-03T09:59:18.594079",
     "status": "completed"
    },
    "tags": []
   },
   "outputs": [
    {
     "name": "stdout",
     "output_type": "stream",
     "text": [
      "[LightGBM] [Warning] min_data_in_leaf is set=20, min_child_samples=20 will be ignored. Current value: min_data_in_leaf=20\n"
     ]
    },
    {
     "data": {
      "text/html": [
       "<div><style>\n",
       ".dataframe > thead > tr,\n",
       ".dataframe > tbody > tr {\n",
       "  text-align: right;\n",
       "  white-space: pre-wrap;\n",
       "}\n",
       "</style>\n",
       "<small>shape: (538_150, 2)</small><table border=\"1\" class=\"dataframe\"><thead><tr><th>ID</th><th>prediction</th></tr><tr><td>u32</td><td>f64</td></tr></thead><tbody><tr><td>1</td><td>-0.00387</td></tr><tr><td>2</td><td>-0.115677</td></tr><tr><td>3</td><td>0.080374</td></tr><tr><td>4</td><td>-0.068495</td></tr><tr><td>5</td><td>0.114384</td></tr><tr><td>&hellip;</td><td>&hellip;</td></tr><tr><td>538146</td><td>0.700414</td></tr><tr><td>538147</td><td>-0.111473</td></tr><tr><td>538148</td><td>0.159216</td></tr><tr><td>538149</td><td>-0.515736</td></tr><tr><td>538150</td><td>1.584759</td></tr></tbody></table></div>"
      ],
      "text/plain": [
       "shape: (538_150, 2)\n",
       "┌────────┬────────────┐\n",
       "│ ID     ┆ prediction │\n",
       "│ ---    ┆ ---        │\n",
       "│ u32    ┆ f64        │\n",
       "╞════════╪════════════╡\n",
       "│ 1      ┆ -0.00387   │\n",
       "│ 2      ┆ -0.115677  │\n",
       "│ 3      ┆ 0.080374   │\n",
       "│ 4      ┆ -0.068495  │\n",
       "│ 5      ┆ 0.114384   │\n",
       "│ …      ┆ …          │\n",
       "│ 538146 ┆ 0.700414   │\n",
       "│ 538147 ┆ -0.111473  │\n",
       "│ 538148 ┆ 0.159216   │\n",
       "│ 538149 ┆ -0.515736  │\n",
       "│ 538150 ┆ 1.584759   │\n",
       "└────────┴────────────┘"
      ]
     },
     "execution_count": 7,
     "metadata": {},
     "output_type": "execute_result"
    }
   ],
   "source": [
    "y_pred = model.predict(X_test.to_numpy())\n",
    "submission = pl.DataFrame({\n",
    "    \"ID\": test[\"ID\"],\n",
    "    \"prediction\": y_pred\n",
    "})\n",
    "submission"
   ]
  },
  {
   "cell_type": "markdown",
   "id": "8e8d4a68",
   "metadata": {
    "papermill": {
     "duration": 0.003669,
     "end_time": "2025-06-03T09:59:50.287389",
     "exception": false,
     "start_time": "2025-06-03T09:59:50.283720",
     "status": "completed"
    },
    "tags": []
   },
   "source": [
    "# Submission\n",
    "\n",
    "sample_submission.csv\n",
    "- ID\n",
    "- prediction"
   ]
  },
  {
   "cell_type": "code",
   "execution_count": 8,
   "id": "dc7144d5",
   "metadata": {
    "execution": {
     "iopub.execute_input": "2025-06-03T09:59:50.296784Z",
     "iopub.status.busy": "2025-06-03T09:59:50.296132Z",
     "iopub.status.idle": "2025-06-03T09:59:50.413643Z",
     "shell.execute_reply": "2025-06-03T09:59:50.412691Z"
    },
    "papermill": {
     "duration": 0.124426,
     "end_time": "2025-06-03T09:59:50.415662",
     "exception": false,
     "start_time": "2025-06-03T09:59:50.291236",
     "status": "completed"
    },
    "tags": []
   },
   "outputs": [],
   "source": [
    "submission.write_csv(\"/kaggle/working/submission.csv\")"
   ]
  }
 ],
 "metadata": {
  "kaggle": {
   "accelerator": "none",
   "dataSources": [
    {
     "databundleVersionId": 11418275,
     "sourceId": 96164,
     "sourceType": "competition"
    }
   ],
   "dockerImageVersionId": 31040,
   "isGpuEnabled": false,
   "isInternetEnabled": true,
   "language": "python",
   "sourceType": "notebook"
  },
  "kernelspec": {
   "display_name": "Python 3",
   "language": "python",
   "name": "python3"
  },
  "language_info": {
   "codemirror_mode": {
    "name": "ipython",
    "version": 3
   },
   "file_extension": ".py",
   "mimetype": "text/x-python",
   "name": "python",
   "nbconvert_exporter": "python",
   "pygments_lexer": "ipython3",
   "version": "3.12.5"
  },
  "papermill": {
   "default_parameters": {},
   "duration": 773.161209,
   "end_time": "2025-06-03T09:59:54.014100",
   "environment_variables": {},
   "exception": null,
   "input_path": "__notebook__.ipynb",
   "output_path": "__notebook__.ipynb",
   "parameters": {},
   "start_time": "2025-06-03T09:47:00.852891",
   "version": "2.6.0"
  }
 },
 "nbformat": 4,
 "nbformat_minor": 5
}

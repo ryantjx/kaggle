{
 "cells": [
  {
   "cell_type": "markdown",
   "id": "8de809e3",
   "metadata": {},
   "source": [
    "# 3 Model Building"
   ]
  },
  {
   "cell_type": "code",
   "execution_count": null,
   "id": "a46d28bf",
   "metadata": {
    "vscode": {
     "languageId": "plaintext"
    }
   },
   "outputs": [],
   "source": []
  }
 ],
 "metadata": {
  "language_info": {
   "name": "python"
  }
 },
 "nbformat": 4,
 "nbformat_minor": 5
}
